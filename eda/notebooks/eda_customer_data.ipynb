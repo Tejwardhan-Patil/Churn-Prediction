{
    "cells": [
     {
      "cell_type": "code",
      "execution_count": null,
      "id": "import-libraries",
      "metadata": {},
      "outputs": [],
      "source": [
       "import pandas as pd\n",
       "import numpy as np\n",
       "import matplotlib.pyplot as plt\n",
       "import seaborn as sns\n",
       "\n",
       "%matplotlib inline"
      ]
     },
     {
      "cell_type": "code",
      "execution_count": null,
      "id": "load-data",
      "metadata": {},
      "outputs": [],
      "source": [
       "customer_data_path = '../../data/raw/customer_data.csv'\n",
       "df = pd.read_csv(customer_data_path)\n",
       "\n",
       "df.head()"
      ]
     },
     {
      "cell_type": "code",
      "execution_count": null,
      "id": "basic-info",
      "metadata": {},
      "outputs": [],
      "source": [
       "df.info()"
      ]
     },
     {
      "cell_type": "code",
      "execution_count": null,
      "id": "missing-values",
      "metadata": {},
      "outputs": [],
      "source": [
       "missing_values = df.isnull().sum()\n",
       "print('Missing values in each column:\\n', missing_values)"
      ]
     },
     {
      "cell_type": "code",
      "execution_count": null,
      "id": "clean-data",
      "metadata": {},
      "outputs": [],
      "source": [
       "df_clean = df.dropna()"
      ]
     },
     {
      "cell_type": "code",
      "execution_count": null,
      "id": "descriptive-statistics",
      "metadata": {},
      "outputs": [],
      "source": [
       "df.describe()"
      ]
     },
     {
      "cell_type": "code",
      "execution_count": null,
      "id": "data-types",
      "metadata": {},
      "outputs": [],
      "source": [
       "df.dtypes\n",
       "df.memory_usage(deep=True)"
      ]
     },
     {
      "cell_type": "code",
      "execution_count": null,
      "id": "duplicate-rows",
      "metadata": {},
      "outputs": [],
      "source": [
       "duplicate_rows = df[df.duplicated()]\n",
       "print(f'Number of duplicate rows: {len(duplicate_rows)}')\n",
       "df_clean = df_clean.drop_duplicates()"
      ]
     },
     {
      "cell_type": "code",
      "execution_count": null,
      "id": "categorical-columns",
      "metadata": {},
      "outputs": [],
      "source": [
       "categorical_columns = df_clean.select_dtypes(include=['object']).columns\n",
       "for col in categorical_columns:\n",
       "    print(f'Unique values in {col}: {df_clean[col].nunique()}')"
      ]
     },
     {
      "cell_type": "code",
      "execution_count": null,
      "id": "count-plot-categorical",
      "metadata": {},
      "outputs": [],
      "source": [
       "for col in categorical_columns:\n",
       "    plt.figure(figsize=(10, 5))\n",
       "    sns.countplot(data=df_clean, x=col, palette='Set1')\n",
       "    plt.title(f'Distribution of {col}')\n",
       "    plt.xticks(rotation=45)\n",
       "    plt.show()"
      ]
     },
     {
      "cell_type": "code",
      "execution_count": null,
      "id": "numerical-columns",
      "metadata": {},
      "outputs": [],
      "source": [
       "numerical_columns = df_clean.select_dtypes(include=[np.number]).columns\n",
       "df_clean[numerical_columns].hist(figsize=(12, 10), bins=20, color='dodgerblue', edgecolor='black')\n",
       "plt.suptitle('Distribution of Numerical Features', fontsize=16)\n",
       "plt.show()"
      ]
     },
     {
      "cell_type": "code",
      "execution_count": null,
      "id": "correlation-heatmap",
      "metadata": {},
      "outputs": [],
      "source": [
       "plt.figure(figsize=(12, 8))\n",
       "correlation_matrix = df_clean[numerical_columns].corr()\n",
       "sns.heatmap(correlation_matrix, annot=True, cmap='coolwarm', linewidths=0.5)\n",
       "plt.title('Correlation Heatmap')\n",
       "plt.show()"
      ]
     },
     {
      "cell_type": "code",
      "execution_count": null,
      "id": "boxplots-outliers",
      "metadata": {},
      "outputs": [],
      "source": [
       "for col in numerical_columns:\n",
       "    plt.figure(figsize=(10, 5))\n",
       "    sns.boxplot(data=df_clean, x=col, palette='Set2')\n",
       "    plt.title(f'Boxplot for {col}')\n",
       "    plt.show()"
      ]
     },
     {
      "cell_type": "code",
      "execution_count": null,
      "id": "churn-analysis",
      "metadata": {},
      "outputs": [],
      "source": [
       "if 'churn' in df_clean.columns:\n",
       "    plt.figure(figsize=(6, 4))\n",
       "    sns.countplot(x='churn', data=df_clean, palette='Set3')\n",
       "    plt.title('Churn Distribution')\n",
       "    plt.show()"
      ]
     },
     {
      "cell_type": "code",
      "execution_count": null,
      "id": "relationship-numerical-churn",
      "metadata": {},
      "outputs": [],
      "source": [
       "if 'churn' in df_clean.columns:\n",
       "    for col in numerical_columns:\n",
       "        plt.figure(figsize=(8, 6))\n",
       "        sns.boxplot(x='churn', y=col, data=df_clean, palette='Set1')\n",
       "        plt.title(f'Relationship between {col} and Churn')\n",
       "        plt.show()"
      ]
     },
     {
      "cell_type": "code",
      "execution_count": null,
      "id": "relationship-categorical-churn",
      "metadata": {},
      "outputs": [],
      "source": [
       "if 'churn' in df_clean.columns:\n",
       "    for col in categorical_columns:\n",
       "        plt.figure(figsize=(10, 6))\n",
       "        sns.countplot(x=col, hue='churn', data=df_clean, palette='coolwarm')\n",
       "        plt.title(f'{col} vs Churn')\n",
       "        plt.xticks(rotation=45)\n",
       "        plt.show()"
      ]
     },
     {
      "cell_type": "code",
      "execution_count": null,
      "id": "tenure-analysis",
      "metadata": {},
      "outputs": [],
      "source": [
       "if 'tenure' in df_clean.columns:\n",
       "    plt.figure(figsize=(10, 6))\n",
       "    sns.histplot(df_clean['tenure'], kde=True, bins=30, color='darkblue')\n",
       "    plt.title('Customer Tenure Distribution')\n",
       "    plt.show()\n",
       "\n",
       "    plt.figure(figsize=(10, 6))\n",
       "    sns.boxplot(x='churn', y='tenure', data=df_clean, palette='cool')\n",
       "    plt.title('Tenure vs Churn')\n",
       "    plt.show()"
      ]
     },
     {
      "cell_type": "code",
      "execution_count": null,
      "id": "total-charges-analysis",
      "metadata": {},
      "outputs": [],
      "source": [
       "if 'total_charges' in df_clean.columns:\n",
       "    plt.figure(figsize=(10, 6))\n",
       "    sns.histplot(df_clean['total_charges'], kde=True, bins=30, color='green')\n",
       "    plt.title('Total Charges Distribution')\n",
       "    plt.show()\n",
       "\n",
       "    plt.figure(figsize=(10, 6))\n",
       "    sns.boxplot(x='churn', y='total_charges', data=df_clean, palette='coolwarm')\n",
       "    plt.title('Total Charges vs Churn')\n",
       "    plt.show()"
      ]
     },
     {
      "cell_type": "code",
      "execution_count": null,
      "id": "monthly-charges-analysis",
      "metadata": {},
      "outputs": [],
      "source": [
       "if 'monthly_charges' in df_clean.columns:\n",
       "    plt.figure(figsize=(10, 6))\n",
       "    sns.histplot(df_clean['monthly_charges'], kde=True, bins=30, color='purple')\n",
       "    plt.title('Monthly Charges Distribution')\n",
       "    plt.show()\n",
       "\n",
       "    plt.figure(figsize=(10, 6))\n",
       "    sns.boxplot(x='churn', y='monthly_charges', data=df_clean, palette='Set3')\n",
       "    plt.title('Monthly Charges vs Churn')\n",
       "    plt.show()"
      ]
     },
     {
      "cell_type": "code",
      "execution_count": null,
      "id": "service-analysis",
      "metadata": {},
      "outputs": [],
      "source": [
       "service_columns = ['phone_service', 'internet_service', 'tech_support', 'online_backup']\n",
       "for col in service_columns:\n",
       "    if col in df_clean.columns:\n",
       "        plt.figure(figsize=(10, 6))\n",
       "        sns.countplot(x=col, hue='churn', data=df_clean, palette='Set2')\n",
       "        plt.title(f'{col.capitalize()} vs Churn')\n",
       "        plt.show()"
      ]
     },
     {
      "cell_type": "code",
      "execution_count": null,
      "id": "contract-type-analysis",
      "metadata": {},
      "outputs": [],
      "source": [
       "if 'contract_type' in df_clean.columns:\n",
       "    plt.figure(figsize=(10, 6))\n",
       "    sns.countplot(x='contract_type', hue='churn', data=df_clean, palette='coolwarm')\n",
       "    plt.title('Contract Type vs Churn')\n",
       "    plt.show()"
      ]
     },
     {
      "cell_type": "code",
      "execution_count": null,
      "id": "save-clean-data",
      "metadata": {},
      "outputs": [],
      "source": [
       "cleaned_data_path = '../../data/processed/cleaned_customer_data.csv'\n",
       "df_clean.to_csv(cleaned_data_path, index=False)\n",
       "print('EDA Completed and Cleaned Data Saved.')"
      ]
     }
    ],
    "metadata": {
     "kernelspec": {
      "display_name": "Python 3",
      "language": "python",
      "name": "python3"
     },
     "language_info": {
      "name": "python",
      "version": "3.8"
     }
    },
    "nbformat": 4,
    "nbformat_minor": 5
   }   