{
    "cells": [
     {
      "cell_type": "code",
      "metadata": {},
      "source": [
       "import pandas as pd\n",
       "import numpy as np\n",
       "import matplotlib.pyplot as plt\n",
       "import seaborn as sns\n",
       "from datetime import datetime\n",
       "pd.set_option('display.max_columns', None)\n"
      ],
      "execution_count": null,
      "outputs": []
     },
     {
      "cell_type": "code",
      "metadata": {},
      "source": [
       "file_path = '../../data/raw/transaction_data.csv'\n",
       "transaction_data = pd.read_csv(file_path)\n",
       "print(\"Basic Info of Transaction Data:\")\n",
       "transaction_data.info()"
      ],
      "execution_count": null,
      "outputs": []
     },
     {
      "cell_type": "code",
      "metadata": {},
      "source": [
       "print(\"\\nFirst 5 Rows of Transaction Data:\")\n",
       "print(transaction_data.head())"
      ],
      "execution_count": null,
      "outputs": []
     },
     {
      "cell_type": "code",
      "metadata": {},
      "source": [
       "print(\"\\nMissing Values Count in Each Column:\")\n",
       "print(transaction_data.isnull().sum())"
      ],
      "execution_count": null,
      "outputs": []
     },
     {
      "cell_type": "code",
      "metadata": {},
      "source": [
       "print(\"\\nDescriptive Statistics for Numeric Columns:\")\n",
       "print(transaction_data.describe())"
      ],
      "execution_count": null,
      "outputs": []
     },
     {
      "cell_type": "code",
      "metadata": {},
      "source": [
       "print(\"\\nUnique Values in Each Categorical Column:\")\n",
       "categorical_columns = transaction_data.select_dtypes(include='object').columns\n",
       "for col in categorical_columns:\n",
       "    print(f\"Unique values in {col}: {transaction_data[col].nunique()}\")"
      ],
      "execution_count": null,
      "outputs": []
     },
     {
      "cell_type": "code",
      "metadata": {},
      "source": [
       "print(\"\\nChecking for Duplicates:\")\n",
       "print(f\"Number of duplicated rows: {transaction_data.duplicated().sum()}\")"
      ],
      "execution_count": null,
      "outputs": []
     },
     {
      "cell_type": "code",
      "metadata": {},
      "source": [
       "print(\"\\nHandling Missing Values:\")\n",
       "transaction_data.fillna(transaction_data.median(), inplace=True)\n",
       "transaction_data.drop_duplicates(inplace=True)\n",
       "print(f\"Number of duplicated rows after removal: {transaction_data.duplicated().sum()}\")"
      ],
      "execution_count": null,
      "outputs": []
     },
     {
      "cell_type": "code",
      "metadata": {},
      "source": [
       "plt.figure(figsize=(10, 6))\n",
       "sns.heatmap(transaction_data.isnull(), cbar=False, cmap='viridis')\n",
       "plt.title('Missing Values Heatmap')\n",
       "plt.show()"
      ],
      "execution_count": null,
      "outputs": []
     },
     {
      "cell_type": "code",
      "metadata": {},
      "source": [
       "plt.figure(figsize=(10, 6))\n",
       "sns.histplot(transaction_data['transaction_amount'], kde=True, color='blue', bins=30)\n",
       "plt.title('Distribution of Transaction Amount')\n",
       "plt.xlabel('Transaction Amount')\n",
       "plt.ylabel('Frequency')\n",
       "plt.show()"
      ],
      "execution_count": null,
      "outputs": []
     },
     {
      "cell_type": "code",
      "metadata": {},
      "source": [
       "plt.figure(figsize=(10, 6))\n",
       "sns.boxplot(x=transaction_data['transaction_amount'])\n",
       "plt.title('Boxplot of Transaction Amount')\n",
       "plt.show()"
      ],
      "execution_count": null,
      "outputs": []
     },
     {
      "cell_type": "code",
      "metadata": {},
      "source": [
       "plt.figure(figsize=(12, 6))\n",
       "sns.boxplot(x='transaction_type', y='transaction_amount', data=transaction_data)\n",
       "plt.title('Transaction Amount by Transaction Type')\n",
       "plt.xticks(rotation=45)\n",
       "plt.show()"
      ],
      "execution_count": null,
      "outputs": []
     },
     {
      "cell_type": "code",
      "metadata": {},
      "source": [
       "transaction_data['transaction_date'] = pd.to_datetime(transaction_data['transaction_date'], format='%Y-%m-%d')\n",
       "transaction_data['year'] = transaction_data['transaction_date'].dt.year\n",
       "transaction_data['month'] = transaction_data['transaction_date'].dt.month\n",
       "transaction_data['day'] = transaction_data['transaction_date'].dt.day"
      ],
      "execution_count": null,
      "outputs": []
     },
     {
      "cell_type": "code",
      "metadata": {},
      "source": [
       "transactions_per_day = transaction_data.groupby('transaction_date').size()\n",
       "plt.figure(figsize=(12, 6))\n",
       "transactions_per_day.plot()\n",
       "plt.title('Number of Transactions Over Time')\n",
       "plt.xlabel('Date')\n",
       "plt.ylabel('Number of Transactions')\n",
       "plt.grid(True)\n",
       "plt.show()"
      ],
      "execution_count": null,
      "outputs": []
     },
     {
      "cell_type": "code",
      "metadata": {},
      "source": [
       "daily_transaction_amount = transaction_data.groupby('transaction_date')['transaction_amount'].sum()\n",
       "plt.figure(figsize=(12, 6))\n",
       "daily_transaction_amount.plot()\n",
       "plt.title('Daily Total Transaction Amount Over Time')\n",
       "plt.xlabel('Date')\n",
       "plt.ylabel('Total Transaction Amount')\n",
       "plt.grid(True)\n",
       "plt.show()"
      ],
      "execution_count": null,
      "outputs": []
     },
     {
      "cell_type": "code",
      "metadata": {},
      "source": [
       "top_10_transaction_types = transaction_data['transaction_type'].value_counts().head(10)\n",
       "plt.figure(figsize=(10, 6))\n",
       "top_10_transaction_types.plot(kind='bar')\n",
       "plt.title('Top 10 Most Frequent Transaction Types')\n",
       "plt.xlabel('Transaction Type')\n",
       "plt.ylabel('Frequency')\n",
       "plt.xticks(rotation=45)\n",
       "plt.show()"
      ],
      "execution_count": null,
      "outputs": []
     },
     {
      "cell_type": "code",
      "metadata": {},
      "source": [
       "plt.figure(figsize=(10, 6))\n",
       "correlation_matrix = transaction_data.corr()\n",
       "sns.heatmap(correlation_matrix, annot=True, cmap='coolwarm', fmt='.2f')\n",
       "plt.title('Correlation Heatmap')\n",
       "plt.show()"
      ],
      "execution_count": null,
      "outputs": []
     },
     {
      "cell_type": "code",
      "metadata": {},
      "source": [
       "if 'customer_segment' in transaction_data.columns:\n",
       "    plt.figure(figsize=(12, 6))\n",
       "    sns.boxplot(x='customer_segment', y='transaction_amount', data=transaction_data)\n",
       "    plt.title('Transaction Amount by Customer Segment')\n",
       "    plt.xticks(rotation=45)\n",
       "    plt.show()"
      ],
      "execution_count": null,
      "outputs": []
     },
     {
      "cell_type": "code",
      "metadata": {},
      "source": [
       "monthly_transaction_amount = transaction_data.groupby(['year', 'month'])['transaction_amount'].sum().reset_index()\n",
       "plt.figure(figsize=(12, 6))\n",
       "sns.lineplot(x='month', y='transaction_amount', hue='year', data=monthly_transaction_amount, marker='o')\n",
       "plt.title('Monthly Transaction Amount Trends Across Years')\n",
       "plt.xlabel('Month')\n",
       "plt.ylabel('Transaction Amount')\n",
       "plt.show()"
      ],
      "execution_count": null,
      "outputs": []
     },
     {
      "cell_type": "code",
      "metadata": {},
      "source": [
       "output_file_path = '../../data/processed/cleaned_transaction_data.csv'\n",
       "transaction_data.to_csv(output_file_path, index=False)\n",
       "print(\"\\nCleaned Transaction Data saved to:\", output_file_path)"
      ],
      "execution_count": null,
      "outputs": []
     }
    ],
    "metadata": {
     "kernelspec": {
      "display_name": "Python 3",
      "language": "python",
      "name": "python3"
     },
     "language_info": {
      "name": "python",
      "version": "3.8"
     }
    },
    "nbformat": 4,
    "nbformat_minor": 4
   }   